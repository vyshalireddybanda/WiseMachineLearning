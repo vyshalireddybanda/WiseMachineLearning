{
  "nbformat": 4,
  "nbformat_minor": 0,
  "metadata": {
    "colab": {
      "name": "RNN_FoodDemandForecasting.ipynb",
      "provenance": []
    },
    "kernelspec": {
      "name": "python3",
      "display_name": "Python 3"
    },
    "language_info": {
      "name": "python"
    }
  },
  "cells": [
    {
      "cell_type": "code",
      "metadata": {
        "id": "lAlQTdjEq0ot"
      },
      "source": [
        "import os\n",
        "import numpy as np\n",
        "import pandas as pd\n",
        "import matplotlib.pyplot as plt\n",
        "import seaborn as sbn\n",
        "import warnings\n",
        "warnings.filterwarnings('ignore', category = RuntimeWarning)\n",
        "warnings.filterwarnings('ignore', category = UserWarning)\n",
        "\n",
        "# Importing Normalisation library\n",
        "from sklearn.preprocessing import MinMaxScaler\n",
        "\n",
        "# Importing Keras libraries and Packages\n",
        "from tensorflow.keras.models import Sequential\n",
        "from tensorflow.keras.layers import Dense\n",
        "from tensorflow.keras.layers import LSTM\n",
        "from tensorflow.keras.layers import Dropout\n",
        "\n",
        "# Importing Metrics libraries\n",
        "import math\n",
        "from sklearn.metrics import mean_squared_error\n",
        "\n",
        "# Importing TPU Setup Libraries\n",
        "# tf.enable_eager_execution()\n",
        "# from keras.backend import clear_session"
      ],
      "execution_count": 159,
      "outputs": []
    },
    {
      "cell_type": "code",
      "metadata": {
        "id": "X505d5nkq-HZ"
      },
      "source": [
        "data_train = pd.read_csv('https://raw.githubusercontent.com/CallMeAmartya/Food-Demand-Forecasting/master/train.csv')"
      ],
      "execution_count": 160,
      "outputs": []
    },
    {
      "cell_type": "markdown",
      "metadata": {
        "id": "200dyYzjrLCf"
      },
      "source": [
        "**Data Preprocessing**"
      ]
    },
    {
      "cell_type": "code",
      "metadata": {
        "colab": {
          "base_uri": "https://localhost:8080/",
          "height": 195
        },
        "id": "8uc8uPzDrIH7",
        "outputId": "e6247ce8-8f5e-4975-c50b-c97480e0f46a"
      },
      "source": [
        "data_train.head()"
      ],
      "execution_count": 161,
      "outputs": [
        {
          "output_type": "execute_result",
          "data": {
            "text/html": [
              "<div>\n",
              "<style scoped>\n",
              "    .dataframe tbody tr th:only-of-type {\n",
              "        vertical-align: middle;\n",
              "    }\n",
              "\n",
              "    .dataframe tbody tr th {\n",
              "        vertical-align: top;\n",
              "    }\n",
              "\n",
              "    .dataframe thead th {\n",
              "        text-align: right;\n",
              "    }\n",
              "</style>\n",
              "<table border=\"1\" class=\"dataframe\">\n",
              "  <thead>\n",
              "    <tr style=\"text-align: right;\">\n",
              "      <th></th>\n",
              "      <th>id</th>\n",
              "      <th>week</th>\n",
              "      <th>center_id</th>\n",
              "      <th>meal_id</th>\n",
              "      <th>checkout_price</th>\n",
              "      <th>base_price</th>\n",
              "      <th>emailer_for_promotion</th>\n",
              "      <th>homepage_featured</th>\n",
              "      <th>num_orders</th>\n",
              "    </tr>\n",
              "  </thead>\n",
              "  <tbody>\n",
              "    <tr>\n",
              "      <th>0</th>\n",
              "      <td>1379560</td>\n",
              "      <td>1</td>\n",
              "      <td>55</td>\n",
              "      <td>1885</td>\n",
              "      <td>136.83</td>\n",
              "      <td>152.29</td>\n",
              "      <td>0</td>\n",
              "      <td>0</td>\n",
              "      <td>177</td>\n",
              "    </tr>\n",
              "    <tr>\n",
              "      <th>1</th>\n",
              "      <td>1466964</td>\n",
              "      <td>1</td>\n",
              "      <td>55</td>\n",
              "      <td>1993</td>\n",
              "      <td>136.83</td>\n",
              "      <td>135.83</td>\n",
              "      <td>0</td>\n",
              "      <td>0</td>\n",
              "      <td>270</td>\n",
              "    </tr>\n",
              "    <tr>\n",
              "      <th>2</th>\n",
              "      <td>1346989</td>\n",
              "      <td>1</td>\n",
              "      <td>55</td>\n",
              "      <td>2539</td>\n",
              "      <td>134.86</td>\n",
              "      <td>135.86</td>\n",
              "      <td>0</td>\n",
              "      <td>0</td>\n",
              "      <td>189</td>\n",
              "    </tr>\n",
              "    <tr>\n",
              "      <th>3</th>\n",
              "      <td>1338232</td>\n",
              "      <td>1</td>\n",
              "      <td>55</td>\n",
              "      <td>2139</td>\n",
              "      <td>339.50</td>\n",
              "      <td>437.53</td>\n",
              "      <td>0</td>\n",
              "      <td>0</td>\n",
              "      <td>54</td>\n",
              "    </tr>\n",
              "    <tr>\n",
              "      <th>4</th>\n",
              "      <td>1448490</td>\n",
              "      <td>1</td>\n",
              "      <td>55</td>\n",
              "      <td>2631</td>\n",
              "      <td>243.50</td>\n",
              "      <td>242.50</td>\n",
              "      <td>0</td>\n",
              "      <td>0</td>\n",
              "      <td>40</td>\n",
              "    </tr>\n",
              "  </tbody>\n",
              "</table>\n",
              "</div>"
            ],
            "text/plain": [
              "        id  week  ...  homepage_featured  num_orders\n",
              "0  1379560     1  ...                  0         177\n",
              "1  1466964     1  ...                  0         270\n",
              "2  1346989     1  ...                  0         189\n",
              "3  1338232     1  ...                  0          54\n",
              "4  1448490     1  ...                  0          40\n",
              "\n",
              "[5 rows x 9 columns]"
            ]
          },
          "metadata": {
            "tags": []
          },
          "execution_count": 161
        }
      ]
    },
    {
      "cell_type": "code",
      "metadata": {
        "colab": {
          "base_uri": "https://localhost:8080/"
        },
        "id": "5JXXG4_WrP7B",
        "outputId": "b1207b6c-1d21-43b4-85d5-099be724da80"
      },
      "source": [
        "training_set = data_train.iloc[:, 1:2].values\n",
        "training_set"
      ],
      "execution_count": null,
      "outputs": [
        {
          "output_type": "execute_result",
          "data": {
            "text/plain": [
              "array([[  1],\n",
              "       [  1],\n",
              "       [  1],\n",
              "       ...,\n",
              "       [145],\n",
              "       [145],\n",
              "       [145]])"
            ]
          },
          "metadata": {
            "tags": []
          },
          "execution_count": 4
        }
      ]
    },
    {
      "cell_type": "markdown",
      "metadata": {
        "id": "HSvjqd5HrU9r"
      },
      "source": [
        "**Feature Scaling**"
      ]
    },
    {
      "cell_type": "code",
      "metadata": {
        "id": "J9UpJnMdrVxk"
      },
      "source": [
        "sc = MinMaxScaler(feature_range= (0,1))"
      ],
      "execution_count": null,
      "outputs": []
    },
    {
      "cell_type": "code",
      "metadata": {
        "colab": {
          "base_uri": "https://localhost:8080/"
        },
        "id": "lc6Zd3warYqx",
        "outputId": "af58023b-f7a4-4fcb-b217-012fc2bd6c47"
      },
      "source": [
        "scaled_training_set = sc.fit_transform(training_set)\n",
        "scaled_training_set"
      ],
      "execution_count": null,
      "outputs": [
        {
          "output_type": "execute_result",
          "data": {
            "text/plain": [
              "array([[0.],\n",
              "       [0.],\n",
              "       [0.],\n",
              "       ...,\n",
              "       [1.],\n",
              "       [1.],\n",
              "       [1.]])"
            ]
          },
          "metadata": {
            "tags": []
          },
          "execution_count": 6
        }
      ]
    },
    {
      "cell_type": "markdown",
      "metadata": {
        "id": "cuQyFjHerbxC"
      },
      "source": [
        "**Creating Datastructure with 60 timesteps and 1 output**"
      ]
    },
    {
      "cell_type": "code",
      "metadata": {
        "id": "P7x1O215rd8y"
      },
      "source": [
        "# Using Pandas and Slicing\n",
        "\n",
        "x_train, y_train = zip(*[(scaled_training_set[i-60:i, 0]\n",
        "                          ,scaled_training_set[i, 0])\n",
        "                          for i in range(60, 767)])"
      ],
      "execution_count": null,
      "outputs": []
    },
    {
      "cell_type": "code",
      "metadata": {
        "id": "OP7IwFpVrnF6"
      },
      "source": [
        "x_train, y_train = np.array(x_train), np.array(y_train)"
      ],
      "execution_count": null,
      "outputs": []
    },
    {
      "cell_type": "code",
      "metadata": {
        "colab": {
          "base_uri": "https://localhost:8080/"
        },
        "id": "EJZql6DoroyR",
        "outputId": "12a04816-00ab-42b3-d50e-09846b7e9df8"
      },
      "source": [
        "x_train.shape[1]"
      ],
      "execution_count": null,
      "outputs": [
        {
          "output_type": "execute_result",
          "data": {
            "text/plain": [
              "60"
            ]
          },
          "metadata": {
            "tags": []
          },
          "execution_count": 9
        }
      ]
    },
    {
      "cell_type": "markdown",
      "metadata": {
        "id": "jZ_GP0Sxrtp2"
      },
      "source": [
        "**Reshaping**"
      ]
    },
    {
      "cell_type": "code",
      "metadata": {
        "id": "4HoR27PMruVy"
      },
      "source": [
        "x_train = np.reshape(x_train, (x_train.shape[0], x_train.shape[1], 1))"
      ],
      "execution_count": null,
      "outputs": []
    },
    {
      "cell_type": "markdown",
      "metadata": {
        "id": "hvE_Pyoyryq-"
      },
      "source": [
        "**Setting Model Parameters**"
      ]
    },
    {
      "cell_type": "code",
      "metadata": {
        "id": "8iTHKWW5rwrb"
      },
      "source": [
        "INPUT_SHAPE = (x_train.shape[1], 1)\n",
        "BATCH_SIZE = 32"
      ],
      "execution_count": null,
      "outputs": []
    },
    {
      "cell_type": "markdown",
      "metadata": {
        "id": "RHoDDAY3r3Bs"
      },
      "source": [
        "**Model Creation**"
      ]
    },
    {
      "cell_type": "code",
      "metadata": {
        "id": "efufigOpr31N"
      },
      "source": [
        "# Step 1 - Initialising the RNN\n",
        "rnn_regressor = Sequential()"
      ],
      "execution_count": null,
      "outputs": []
    },
    {
      "cell_type": "code",
      "metadata": {
        "id": "ahDmqyE1r67d"
      },
      "source": [
        "# Step 2 - First LSTM and Droput Layer\n",
        "rnn_regressor.add(LSTM(units = 50, return_sequences = True, input_shape = INPUT_SHAPE))\n",
        "rnn_regressor.add(Dropout(0.2))"
      ],
      "execution_count": null,
      "outputs": []
    },
    {
      "cell_type": "code",
      "metadata": {
        "id": "wBKz32lYr7i9"
      },
      "source": [
        "# Step 3 - Additional LSTM and Dropout Layers\n",
        "rnn_regressor.add(LSTM(units = 50, return_sequences = True))\n",
        "rnn_regressor.add(Dropout(0.2))\n",
        "\n",
        "rnn_regressor.add(LSTM(units = 75, return_sequences = True))\n",
        "rnn_regressor.add(Dropout(0.2))\n",
        "\n",
        "rnn_regressor.add(LSTM(units = 100, return_sequences = True))\n",
        "rnn_regressor.add(Dropout(0.2))\n",
        "\n",
        "rnn_regressor.add(LSTM(units = 100))\n",
        "rnn_regressor.add(Dropout(0.2))"
      ],
      "execution_count": null,
      "outputs": []
    },
    {
      "cell_type": "code",
      "metadata": {
        "id": "xSM7KJTSr9dv"
      },
      "source": [
        "# Step 4 - Full Connection\n",
        "rnn_regressor.add(Dense(units = 1))"
      ],
      "execution_count": null,
      "outputs": []
    },
    {
      "cell_type": "code",
      "metadata": {
        "id": "zL_outO7r9gQ"
      },
      "source": [
        "# Compiling the RNN\n",
        "rnn_regressor.compile(optimizer = 'adam', loss = 'mean_squared_error')"
      ],
      "execution_count": null,
      "outputs": []
    },
    {
      "cell_type": "code",
      "metadata": {
        "colab": {
          "base_uri": "https://localhost:8080/"
        },
        "id": "jjHnPdMZr9jd",
        "outputId": "301adce6-3ac0-4379-9160-b02d405f1bb4"
      },
      "source": [
        "# Summary of RNN model\n",
        "rnn_regressor.summary()"
      ],
      "execution_count": null,
      "outputs": [
        {
          "output_type": "stream",
          "text": [
            "Model: \"sequential\"\n",
            "_________________________________________________________________\n",
            "Layer (type)                 Output Shape              Param #   \n",
            "=================================================================\n",
            "lstm (LSTM)                  (None, 60, 50)            10400     \n",
            "_________________________________________________________________\n",
            "dropout (Dropout)            (None, 60, 50)            0         \n",
            "_________________________________________________________________\n",
            "lstm_1 (LSTM)                (None, 60, 50)            20200     \n",
            "_________________________________________________________________\n",
            "dropout_1 (Dropout)          (None, 60, 50)            0         \n",
            "_________________________________________________________________\n",
            "lstm_2 (LSTM)                (None, 60, 75)            37800     \n",
            "_________________________________________________________________\n",
            "dropout_2 (Dropout)          (None, 60, 75)            0         \n",
            "_________________________________________________________________\n",
            "lstm_3 (LSTM)                (None, 60, 100)           70400     \n",
            "_________________________________________________________________\n",
            "dropout_3 (Dropout)          (None, 60, 100)           0         \n",
            "_________________________________________________________________\n",
            "lstm_4 (LSTM)                (None, 100)               80400     \n",
            "_________________________________________________________________\n",
            "dropout_4 (Dropout)          (None, 100)               0         \n",
            "_________________________________________________________________\n",
            "dense (Dense)                (None, 1)                 101       \n",
            "=================================================================\n",
            "Total params: 219,301\n",
            "Trainable params: 219,301\n",
            "Non-trainable params: 0\n",
            "_________________________________________________________________\n"
          ],
          "name": "stdout"
        }
      ]
    },
    {
      "cell_type": "markdown",
      "metadata": {
        "id": "8nE19rxXsKIs"
      },
      "source": [
        "**Train the RNN Model**"
      ]
    },
    {
      "cell_type": "code",
      "metadata": {
        "colab": {
          "base_uri": "https://localhost:8080/"
        },
        "id": "kQGUFwrSsIM2",
        "outputId": "59025397-9a28-4b7c-c3aa-96bea0fe2bf6"
      },
      "source": [
        "EPOCHS = 100\n",
        "history = rnn_regressor.fit(\n",
        "    x = x_train,\n",
        "    y = y_train,\n",
        "    epochs = EPOCHS,\n",
        "    batch_size = BATCH_SIZE\n",
        ")"
      ],
      "execution_count": null,
      "outputs": [
        {
          "output_type": "stream",
          "text": [
            "Epoch 1/100\n",
            "23/23 [==============================] - 12s 176ms/step - loss: 0.0000e+00\n",
            "Epoch 2/100\n",
            "23/23 [==============================] - 5s 203ms/step - loss: 0.0000e+00\n",
            "Epoch 3/100\n",
            "23/23 [==============================] - 4s 191ms/step - loss: 0.0000e+00\n",
            "Epoch 4/100\n",
            "23/23 [==============================] - 4s 194ms/step - loss: 0.0000e+00\n",
            "Epoch 5/100\n",
            "23/23 [==============================] - 5s 198ms/step - loss: 0.0000e+00\n",
            "Epoch 6/100\n",
            "23/23 [==============================] - 4s 184ms/step - loss: 0.0000e+00\n",
            "Epoch 7/100\n",
            "23/23 [==============================] - 5s 198ms/step - loss: 0.0000e+00\n",
            "Epoch 8/100\n",
            "23/23 [==============================] - 5s 218ms/step - loss: 0.0000e+00\n",
            "Epoch 9/100\n",
            "23/23 [==============================] - 5s 234ms/step - loss: 0.0000e+00\n",
            "Epoch 10/100\n",
            "23/23 [==============================] - 4s 195ms/step - loss: 0.0000e+00\n",
            "Epoch 11/100\n",
            "23/23 [==============================] - 4s 191ms/step - loss: 0.0000e+00\n",
            "Epoch 12/100\n",
            "23/23 [==============================] - 4s 194ms/step - loss: 0.0000e+00\n",
            "Epoch 13/100\n",
            "23/23 [==============================] - 4s 191ms/step - loss: 0.0000e+00\n",
            "Epoch 14/100\n",
            "23/23 [==============================] - 5s 199ms/step - loss: 0.0000e+00\n",
            "Epoch 15/100\n",
            "23/23 [==============================] - 5s 198ms/step - loss: 0.0000e+00\n",
            "Epoch 16/100\n",
            "23/23 [==============================] - 4s 195ms/step - loss: 0.0000e+00\n",
            "Epoch 17/100\n",
            "23/23 [==============================] - 4s 190ms/step - loss: 0.0000e+00\n",
            "Epoch 18/100\n",
            "23/23 [==============================] - 5s 198ms/step - loss: 0.0000e+00\n",
            "Epoch 19/100\n",
            "23/23 [==============================] - 4s 189ms/step - loss: 0.0000e+00\n",
            "Epoch 20/100\n",
            "23/23 [==============================] - 5s 200ms/step - loss: 0.0000e+00\n",
            "Epoch 21/100\n",
            "23/23 [==============================] - 5s 198ms/step - loss: 0.0000e+00\n",
            "Epoch 22/100\n",
            "23/23 [==============================] - 5s 196ms/step - loss: 0.0000e+00\n",
            "Epoch 23/100\n",
            "23/23 [==============================] - 4s 192ms/step - loss: 0.0000e+00\n",
            "Epoch 24/100\n",
            "23/23 [==============================] - 4s 194ms/step - loss: 0.0000e+00\n",
            "Epoch 25/100\n",
            "23/23 [==============================] - 4s 186ms/step - loss: 0.0000e+00\n",
            "Epoch 26/100\n",
            "23/23 [==============================] - 5s 197ms/step - loss: 0.0000e+00\n",
            "Epoch 27/100\n",
            "23/23 [==============================] - 4s 194ms/step - loss: 0.0000e+00\n",
            "Epoch 28/100\n",
            "23/23 [==============================] - 5s 197ms/step - loss: 0.0000e+00\n",
            "Epoch 29/100\n",
            "23/23 [==============================] - 4s 189ms/step - loss: 0.0000e+00\n",
            "Epoch 30/100\n",
            "23/23 [==============================] - 4s 191ms/step - loss: 0.0000e+00\n",
            "Epoch 31/100\n",
            "23/23 [==============================] - 4s 195ms/step - loss: 0.0000e+00\n",
            "Epoch 32/100\n",
            "23/23 [==============================] - 4s 187ms/step - loss: 0.0000e+00\n",
            "Epoch 33/100\n",
            "23/23 [==============================] - 4s 194ms/step - loss: 0.0000e+00\n",
            "Epoch 34/100\n",
            "23/23 [==============================] - 5s 196ms/step - loss: 0.0000e+00\n",
            "Epoch 35/100\n",
            "23/23 [==============================] - 4s 185ms/step - loss: 0.0000e+00\n",
            "Epoch 36/100\n",
            "23/23 [==============================] - 4s 193ms/step - loss: 0.0000e+00\n",
            "Epoch 37/100\n",
            "23/23 [==============================] - 4s 194ms/step - loss: 0.0000e+00\n",
            "Epoch 38/100\n",
            "23/23 [==============================] - 4s 192ms/step - loss: 0.0000e+00\n",
            "Epoch 39/100\n",
            "23/23 [==============================] - 4s 192ms/step - loss: 0.0000e+00\n",
            "Epoch 40/100\n",
            "23/23 [==============================] - 4s 191ms/step - loss: 0.0000e+00\n",
            "Epoch 41/100\n",
            "23/23 [==============================] - 4s 189ms/step - loss: 0.0000e+00\n",
            "Epoch 42/100\n",
            "23/23 [==============================] - 4s 195ms/step - loss: 0.0000e+00\n",
            "Epoch 43/100\n",
            "23/23 [==============================] - 4s 191ms/step - loss: 0.0000e+00\n",
            "Epoch 44/100\n",
            "23/23 [==============================] - 4s 189ms/step - loss: 0.0000e+00\n",
            "Epoch 45/100\n",
            "23/23 [==============================] - 5s 197ms/step - loss: 0.0000e+00\n",
            "Epoch 46/100\n",
            "23/23 [==============================] - 4s 189ms/step - loss: 0.0000e+00\n",
            "Epoch 47/100\n",
            "23/23 [==============================] - 4s 185ms/step - loss: 0.0000e+00\n",
            "Epoch 48/100\n",
            "23/23 [==============================] - 4s 195ms/step - loss: 0.0000e+00\n",
            "Epoch 49/100\n",
            "23/23 [==============================] - 4s 195ms/step - loss: 0.0000e+00\n",
            "Epoch 50/100\n",
            "23/23 [==============================] - 5s 195ms/step - loss: 0.0000e+00\n",
            "Epoch 51/100\n",
            "23/23 [==============================] - 4s 188ms/step - loss: 0.0000e+00\n",
            "Epoch 52/100\n",
            "23/23 [==============================] - 4s 184ms/step - loss: 0.0000e+00\n",
            "Epoch 53/100\n",
            "23/23 [==============================] - 5s 199ms/step - loss: 0.0000e+00\n",
            "Epoch 54/100\n",
            "23/23 [==============================] - 4s 190ms/step - loss: 0.0000e+00\n",
            "Epoch 55/100\n",
            "23/23 [==============================] - 5s 198ms/step - loss: 0.0000e+00\n",
            "Epoch 56/100\n",
            "23/23 [==============================] - 4s 195ms/step - loss: 0.0000e+00\n",
            "Epoch 57/100\n",
            "23/23 [==============================] - 4s 193ms/step - loss: 0.0000e+00\n",
            "Epoch 58/100\n",
            "23/23 [==============================] - 5s 199ms/step - loss: 0.0000e+00\n",
            "Epoch 59/100\n",
            "23/23 [==============================] - 4s 192ms/step - loss: 0.0000e+00\n",
            "Epoch 60/100\n",
            "23/23 [==============================] - 5s 198ms/step - loss: 0.0000e+00\n",
            "Epoch 61/100\n",
            "23/23 [==============================] - 4s 189ms/step - loss: 0.0000e+00\n",
            "Epoch 62/100\n",
            "23/23 [==============================] - 5s 197ms/step - loss: 0.0000e+00\n",
            "Epoch 63/100\n",
            "23/23 [==============================] - 5s 196ms/step - loss: 0.0000e+00\n",
            "Epoch 64/100\n",
            "23/23 [==============================] - 4s 193ms/step - loss: 0.0000e+00\n",
            "Epoch 65/100\n",
            "23/23 [==============================] - 4s 185ms/step - loss: 0.0000e+00\n",
            "Epoch 66/100\n",
            "23/23 [==============================] - 4s 192ms/step - loss: 0.0000e+00\n",
            "Epoch 67/100\n",
            "23/23 [==============================] - 4s 194ms/step - loss: 0.0000e+00\n",
            "Epoch 68/100\n",
            "23/23 [==============================] - 4s 184ms/step - loss: 0.0000e+00\n",
            "Epoch 69/100\n",
            "23/23 [==============================] - 4s 189ms/step - loss: 0.0000e+00\n",
            "Epoch 70/100\n",
            "23/23 [==============================] - 4s 192ms/step - loss: 0.0000e+00\n",
            "Epoch 71/100\n",
            "23/23 [==============================] - 4s 193ms/step - loss: 0.0000e+00\n",
            "Epoch 72/100\n",
            "23/23 [==============================] - 4s 190ms/step - loss: 0.0000e+00\n",
            "Epoch 73/100\n",
            "23/23 [==============================] - 4s 188ms/step - loss: 0.0000e+00\n",
            "Epoch 74/100\n",
            "23/23 [==============================] - 4s 188ms/step - loss: 0.0000e+00\n",
            "Epoch 75/100\n",
            "23/23 [==============================] - 4s 190ms/step - loss: 0.0000e+00\n",
            "Epoch 76/100\n",
            "23/23 [==============================] - 4s 188ms/step - loss: 0.0000e+00\n",
            "Epoch 77/100\n",
            "23/23 [==============================] - 4s 192ms/step - loss: 0.0000e+00\n",
            "Epoch 78/100\n",
            "23/23 [==============================] - 5s 197ms/step - loss: 0.0000e+00\n",
            "Epoch 79/100\n",
            "23/23 [==============================] - 4s 190ms/step - loss: 0.0000e+00\n",
            "Epoch 80/100\n",
            "23/23 [==============================] - 4s 195ms/step - loss: 0.0000e+00\n",
            "Epoch 81/100\n",
            "23/23 [==============================] - 4s 193ms/step - loss: 0.0000e+00\n",
            "Epoch 82/100\n",
            "23/23 [==============================] - 5s 197ms/step - loss: 0.0000e+00\n",
            "Epoch 83/100\n",
            "23/23 [==============================] - 4s 188ms/step - loss: 0.0000e+00\n",
            "Epoch 84/100\n",
            "23/23 [==============================] - 4s 191ms/step - loss: 0.0000e+00\n",
            "Epoch 85/100\n",
            "23/23 [==============================] - 5s 204ms/step - loss: 0.0000e+00\n",
            "Epoch 86/100\n",
            "23/23 [==============================] - 4s 193ms/step - loss: 0.0000e+00\n",
            "Epoch 87/100\n",
            "23/23 [==============================] - 4s 186ms/step - loss: 0.0000e+00\n",
            "Epoch 88/100\n",
            "23/23 [==============================] - 4s 192ms/step - loss: 0.0000e+00\n",
            "Epoch 89/100\n",
            "23/23 [==============================] - 5s 197ms/step - loss: 0.0000e+00\n",
            "Epoch 90/100\n",
            "23/23 [==============================] - 5s 196ms/step - loss: 0.0000e+00\n",
            "Epoch 91/100\n",
            "23/23 [==============================] - 4s 190ms/step - loss: 0.0000e+00\n",
            "Epoch 92/100\n",
            "23/23 [==============================] - 5s 198ms/step - loss: 0.0000e+00\n",
            "Epoch 93/100\n",
            "23/23 [==============================] - 4s 185ms/step - loss: 0.0000e+00\n",
            "Epoch 94/100\n",
            "23/23 [==============================] - 4s 190ms/step - loss: 0.0000e+00\n",
            "Epoch 95/100\n",
            "23/23 [==============================] - 4s 190ms/step - loss: 0.0000e+00\n",
            "Epoch 96/100\n",
            "23/23 [==============================] - 4s 188ms/step - loss: 0.0000e+00\n",
            "Epoch 97/100\n",
            "23/23 [==============================] - 4s 192ms/step - loss: 0.0000e+00\n",
            "Epoch 98/100\n",
            "23/23 [==============================] - 4s 195ms/step - loss: 0.0000e+00\n",
            "Epoch 99/100\n",
            "23/23 [==============================] - 5s 199ms/step - loss: 0.0000e+00\n",
            "Epoch 100/100\n",
            "23/23 [==============================] - 4s 194ms/step - loss: 0.0000e+00\n"
          ],
          "name": "stdout"
        }
      ]
    },
    {
      "cell_type": "markdown",
      "metadata": {
        "id": "st8Kz1eZsRsw"
      },
      "source": [
        "**Prediction and Visualising the result**"
      ]
    },
    {
      "cell_type": "code",
      "metadata": {
        "id": "xG7SAXnGsQcS"
      },
      "source": [
        "data_test = pd.read_csv('https://raw.githubusercontent.com/CallMeAmartya/Food-Demand-Forecasting/master/test.csv')"
      ],
      "execution_count": 162,
      "outputs": []
    },
    {
      "cell_type": "code",
      "metadata": {
        "id": "YEZnlpKisfKC"
      },
      "source": [
        "abc = data_test.iloc[:, 1:2].values"
      ],
      "execution_count": 163,
      "outputs": []
    },
    {
      "cell_type": "code",
      "metadata": {
        "colab": {
          "base_uri": "https://localhost:8080/"
        },
        "id": "ujoAXvH1sfP4",
        "outputId": "c21ebda3-d982-4d61-a742-a6f97bbcbd3a"
      },
      "source": [
        "abc"
      ],
      "execution_count": 164,
      "outputs": [
        {
          "output_type": "execute_result",
          "data": {
            "text/plain": [
              "array([[146],\n",
              "       [146],\n",
              "       [146],\n",
              "       ...,\n",
              "       [155],\n",
              "       [155],\n",
              "       [155]])"
            ]
          },
          "metadata": {
            "tags": []
          },
          "execution_count": 164
        }
      ]
    },
    {
      "cell_type": "code",
      "metadata": {
        "id": "D9LNj-z9sfUN"
      },
      "source": [
        "data_total = pd.concat((data_train['checkout_price'], data_test['checkout_price']), axis = 0)\n",
        "inputs = data_total[len(data_total) - len(data_test) - 60:].values  # values for making this a numpy array\n",
        "\n",
        "# Reshaping\n",
        "inputs = inputs.reshape(-1,1)"
      ],
      "execution_count": 165,
      "outputs": []
    },
    {
      "cell_type": "code",
      "metadata": {
        "id": "xo9K0LuksfYl"
      },
      "source": [
        "# Scaling\n",
        "inputs = sc.transform(inputs) \n",
        "# transform must be used instead of fit_transform to apply the same tranformation which occured in the training set "
      ],
      "execution_count": 166,
      "outputs": []
    },
    {
      "cell_type": "code",
      "metadata": {
        "id": "-GmQjwiFsuEL"
      },
      "source": [
        "# Creating Datastructure with 60 timesteps for test data\n",
        "x_test = [inputs[i-60:i, 0] for i in range(60, 80)]   \n",
        "x_test = np.array(x_test)"
      ],
      "execution_count": 167,
      "outputs": []
    },
    {
      "cell_type": "code",
      "metadata": {
        "id": "Mfde3U7YsuHG"
      },
      "source": [
        "# Reshaping\n",
        "x_test = np.reshape(x_test, (x_test.shape[0], x_test.shape[1], 1))"
      ],
      "execution_count": 168,
      "outputs": []
    },
    {
      "cell_type": "markdown",
      "metadata": {
        "id": "xjseicjwsydH"
      },
      "source": [
        "**Prediction of Test Data with Trained RNN**"
      ]
    },
    {
      "cell_type": "code",
      "metadata": {
        "id": "gRSrmbzCsuML"
      },
      "source": [
        "predicted_fooddemand = rnn_regressor.predict(x_test)"
      ],
      "execution_count": 169,
      "outputs": []
    },
    {
      "cell_type": "code",
      "metadata": {
        "id": "4cFcPbjes_V8"
      },
      "source": [
        "# Inversing the scaled data to original\n",
        "predicted_fooddemand = sc.inverse_transform(predicted_fooddemand)"
      ],
      "execution_count": 170,
      "outputs": []
    },
    {
      "cell_type": "code",
      "metadata": {
        "colab": {
          "base_uri": "https://localhost:8080/"
        },
        "id": "OSzSfq5-tC3-",
        "outputId": "b7dde97e-22d3-4e9a-d7d7-23c515784827"
      },
      "source": [
        "predicted_fooddemand"
      ],
      "execution_count": 171,
      "outputs": [
        {
          "output_type": "execute_result",
          "data": {
            "text/plain": [
              "array([[8.395602 ],\n",
              "       [8.412399 ],\n",
              "       [8.414616 ],\n",
              "       [8.399624 ],\n",
              "       [8.365075 ],\n",
              "       [8.309929 ],\n",
              "       [8.234281 ],\n",
              "       [8.139684 ],\n",
              "       [8.0295315],\n",
              "       [7.907877 ],\n",
              "       [7.781517 ],\n",
              "       [7.662464 ],\n",
              "       [7.5530524],\n",
              "       [7.4588747],\n",
              "       [7.3833995],\n",
              "       [7.3279247],\n",
              "       [7.2927017],\n",
              "       [7.278244 ],\n",
              "       [7.2804112],\n",
              "       [7.296183 ]], dtype=float32)"
            ]
          },
          "metadata": {
            "tags": []
          },
          "execution_count": 171
        }
      ]
    },
    {
      "cell_type": "markdown",
      "metadata": {
        "id": "81xx4gS7tH_M"
      },
      "source": [
        "**Visualisation**"
      ]
    },
    {
      "cell_type": "code",
      "metadata": {
        "colab": {
          "base_uri": "https://localhost:8080/",
          "height": 350
        },
        "id": "XBXIS_zWtJ-C",
        "outputId": "1b1af3c1-8d4c-498f-a8f6-71572c94c65d"
      },
      "source": [
        "plt.figure(figsize=(14,5))\n",
        "plt.plot(abc, color = 'blue', label = 'Real Food Demand')\n",
        "plt.plot(predicted_fooddemand, color = 'orange', label = 'Predicted Food Demand')\n",
        "plt.title('Food Demand Forecasting')\n",
        "plt.xlabel('Time')\n",
        "plt.ylabel('Demand for food')\n",
        "plt.legend(loc='upper left')\n",
        "plt.show()"
      ],
      "execution_count": 172,
      "outputs": [
        {
          "output_type": "display_data",
          "data": {
            "image/png": "[encoded data removed]",
            "text/plain": [
              "<Figure size 1008x360 with 1 Axes>"
            ]
          },
          "metadata": {
            "tags": [],
            "needs_background": "light"
          }
        }
      ]
    }
  ]
}