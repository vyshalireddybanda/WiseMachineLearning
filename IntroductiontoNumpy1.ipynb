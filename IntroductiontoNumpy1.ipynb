{
  "nbformat": 4,
  "nbformat_minor": 0,
  "metadata": {
    "colab": {
      "name": "IntroductiontoNumpy1.ipynb",
      "private_outputs": true,
      "provenance": [],
      "include_colab_link": true
    },
    "kernelspec": {
      "name": "python3",
      "display_name": "Python 3"
    }
  },
  "cells": [
    {
      "cell_type": "markdown",
      "metadata": {
        "id": "view-in-github",
        "colab_type": "text"
      },
      "source": [
        "<a href=\"https://colab.research.google.com/github/vyshalireddybanda/WiseMachineLearning/blob/main/IntroductiontoNumpy1.ipynb\" target=\"_parent\"><img src=\"https://colab.research.google.com/assets/colab-badge.svg\" alt=\"Open In Colab\"/></a>"
      ]
    },
    {
      "cell_type": "markdown",
      "metadata": {
        "id": "cwotE0h6GBkt"
      },
      "source": [
        "## Objective\n",
        "\n",
        "At the end of this experiment you will be able to\n",
        "\n",
        "* create arrays, vectors and matrices using Numpy\n",
        "* perform operations on vectors and matrices"
      ]
    },
    {
      "cell_type": "markdown",
      "metadata": {
        "id": "aRDzT3W8dSor"
      },
      "source": [
        "## Objective\n",
        "\n",
        "At the end of this experiment you will be able to\n",
        "\n",
        "* create arrays, vectors and matrices using Numpy\n",
        "* perform operations on vectors and matrices"
      ]
    },
    {
      "cell_type": "markdown",
      "metadata": {
        "id": "rYANWPz9dSox"
      },
      "source": [
        "### Introduction to Numpy\n",
        "\n",
        "NumPy (Numerical Python) is a Python library for scientific computing, that provide high-performance vector, matrix, and higher-dimensional data structures for Python. It is implemented in C and Fortran so when calculations are vectorized (formulated with vectors and matrices), the performance is very good.\n",
        "\n",
        "It offers ndarray data structure for storing and ufuncs for efficiently processing the (homogeneous) data. Some of the important functionalities include: basic slicing, advanced or fancy indexing, broadcasting, etc.\n",
        "\n",
        "\n",
        "**How are NumPy arrays different from Python lists?**\n",
        "\n",
        "* Python lists are very general. They can contain any kind of object. They are dynamically typed.\n",
        "* They do not support mathematical functions such as matrix and dot multiplications, etc. Implementing such functions for Python lists would not be very efficient because of the dynamic typing.\n",
        "* Numpy arrays are statically typed and homogeneous. The type of the elements is determined when the array is created.\n",
        "* Numpy arrays are memory efficient.\n",
        "* Because of the static typing, fast implementation of mathematical functions such as multiplication and addition of numpy arrays can be implemented in a compiled language (C and Fortran is used).\n",
        "\n",
        "\n",
        "Now it is time to work on practicals. Following Are the given Exercise:\n"
      ]
    },
    {
      "cell_type": "markdown",
      "metadata": {
        "id": "PDdUPTs2dSo0"
      },
      "source": [
        "#### Exercise 1: Import the numpy package under the name np"
      ]
    },
    {
      "cell_type": "code",
      "metadata": {
        "id": "aE1zkvTzdSo2"
      },
      "source": [
        "# Your Code Here\n",
        "import numpy as np"
      ],
      "execution_count": null,
      "outputs": []
    },
    {
      "cell_type": "markdown",
      "metadata": {
        "id": "MTS6mLDpdSo-"
      },
      "source": [
        "#### Exercise 2: Create an array of 10 zeros"
      ]
    },
    {
      "cell_type": "code",
      "metadata": {
        "id": "xf1Go2iJdSo_"
      },
      "source": [
        "# Your Code Here\n",
        "np.zeros(10)\n"
      ],
      "execution_count": null,
      "outputs": []
    },
    {
      "cell_type": "markdown",
      "metadata": {
        "id": "zsoq73F-dSpE"
      },
      "source": [
        "#### Exercise 3: Create an array of 20 ones"
      ]
    },
    {
      "cell_type": "code",
      "metadata": {
        "id": "nNCWei2YdSpF"
      },
      "source": [
        "# Your Code Here\n",
        "np.ones(20)\n"
      ],
      "execution_count": null,
      "outputs": []
    },
    {
      "cell_type": "markdown",
      "metadata": {
        "id": "jofCBqG_dSpR"
      },
      "source": [
        "#### Exercise 4: Create an array of 10 fours"
      ]
    },
    {
      "cell_type": "code",
      "metadata": {
        "id": "oTpoRwEidSpT"
      },
      "source": [
        "# Your Code Here\n",
        "np.full(10,4)\n"
      ],
      "execution_count": null,
      "outputs": []
    },
    {
      "cell_type": "markdown",
      "metadata": {
        "id": "LVEyGMX-dSpf"
      },
      "source": [
        "#### Exercise 5: Create an array of integers from 20 to 60"
      ]
    },
    {
      "cell_type": "code",
      "metadata": {
        "id": "ZSoauIsUdSph"
      },
      "source": [
        "# Your Code Here\n",
        "np.arange(20,61)\n"
      ],
      "execution_count": null,
      "outputs": []
    },
    {
      "cell_type": "markdown",
      "metadata": {
        "id": "FT3VHyc5dSpq"
      },
      "source": [
        "#### Exercise 6: Create an array of even integers from 20 to 60"
      ]
    },
    {
      "cell_type": "code",
      "metadata": {
        "id": "IIRX8OihdSpq"
      },
      "source": [
        "# Your Code Here\n",
        "np.arange(20,61,2)\n"
      ],
      "execution_count": null,
      "outputs": []
    },
    {
      "cell_type": "markdown",
      "metadata": {
        "id": "yKMvepP_dSpv"
      },
      "source": [
        "#### Exercise 7: Create a 4 * 4 indenty matrix"
      ]
    },
    {
      "cell_type": "code",
      "metadata": {
        "id": "VzNNQ7XgdSpx"
      },
      "source": [
        "# Your Code Here\n",
        "np.eye(4)"
      ],
      "execution_count": null,
      "outputs": []
    },
    {
      "cell_type": "markdown",
      "metadata": {
        "id": "d0LQJc5bdSp1"
      },
      "source": [
        "#### Exercise 8: Create a 3 * 3 matrix with values range from 0 to 8"
      ]
    },
    {
      "cell_type": "code",
      "metadata": {
        "id": "wZTFyQxYdSp2"
      },
      "source": [
        "# Your Code Here\n",
        "x = np.arange(0,9)\n",
        "x.reshape(3,3)"
      ],
      "execution_count": null,
      "outputs": []
    },
    {
      "cell_type": "markdown",
      "metadata": {
        "id": "roNuP3BFdSp6"
      },
      "source": [
        "#### Exercise 9: Generate a random number between 0 and 1 using numpy"
      ]
    },
    {
      "cell_type": "code",
      "metadata": {
        "id": "PD_HLl62dSp7"
      },
      "source": [
        "# Your Code Here\n",
        "np.random.rand(1)\n"
      ],
      "execution_count": null,
      "outputs": []
    },
    {
      "cell_type": "markdown",
      "metadata": {
        "id": "Eg34tGx9dSqA"
      },
      "source": [
        "#### Exercise 10: Generate an array of 15 random numbers sampled from a standard normal distribution"
      ]
    },
    {
      "cell_type": "code",
      "metadata": {
        "id": "mJaoTjymdSqB"
      },
      "source": [
        "# Your Code Here\n",
        "np.random.randn(15)\n"
      ],
      "execution_count": null,
      "outputs": []
    },
    {
      "cell_type": "markdown",
      "metadata": {
        "id": "h_qPmUG4dSqF"
      },
      "source": [
        "#### Exercise 11: Create a vector with values ranging from 10 to 49 "
      ]
    },
    {
      "cell_type": "code",
      "metadata": {
        "id": "udQoRuI0dSqF"
      },
      "source": [
        "# Your Code Here\n",
        "np.arange(10,50)\n"
      ],
      "execution_count": null,
      "outputs": []
    },
    {
      "cell_type": "markdown",
      "metadata": {
        "id": "t0JG-0gedSqO"
      },
      "source": [
        "#### Exercise 12: Create a numpy array from a List"
      ]
    },
    {
      "cell_type": "code",
      "metadata": {
        "id": "lCSlrV_DdSqP"
      },
      "source": [
        "# Your Code Here\n",
        "l = [1,2,3,4,5]\n",
        "np.array(l)\n"
      ],
      "execution_count": null,
      "outputs": []
    },
    {
      "cell_type": "markdown",
      "metadata": {
        "id": "4CsIX2JYdSqW"
      },
      "source": [
        "#### Exercise 13: Find indices of non-zero elements from [122,233,0,0,44,3]"
      ]
    },
    {
      "cell_type": "code",
      "metadata": {
        "id": "QHPj6bw0dSqX"
      },
      "source": [
        "# Your Code Here\n",
        "np.nonzero([122,233,0,0,44,3])"
      ],
      "execution_count": null,
      "outputs": []
    },
    {
      "cell_type": "markdown",
      "metadata": {
        "id": "6uGm5BHjdSqf"
      },
      "source": [
        "#### Exercise 14:  Create a 3 * 3 * 3 array with random values"
      ]
    },
    {
      "cell_type": "code",
      "metadata": {
        "id": "XgTyKfZjdSqh"
      },
      "source": [
        "# Your Code Here\n",
        "np.random.random((3,3,3))"
      ],
      "execution_count": null,
      "outputs": []
    },
    {
      "cell_type": "markdown",
      "metadata": {
        "id": "0pbhTVD6dSql"
      },
      "source": [
        "#### Exercise 15: Create a 10 * 10 array with random values and find the minimum and maximum values"
      ]
    },
    {
      "cell_type": "code",
      "metadata": {
        "id": "8mZVuKGSdSqm"
      },
      "source": [
        "# Your Code Here\n",
        "a = np.random.random((10,10))\n",
        "print(a.min())\n",
        "print(a.max())\n"
      ],
      "execution_count": null,
      "outputs": []
    },
    {
      "cell_type": "markdown",
      "metadata": {
        "id": "YHb58SV4dSqs"
      },
      "source": [
        "#### Exercise 16: Create a random vector of size 10 and find the mean value"
      ]
    },
    {
      "cell_type": "code",
      "metadata": {
        "id": "AMIGKKlRdSqt"
      },
      "source": [
        "# Your Code Here\n",
        "x = np.random.random(10)\n",
        "x.mean()\n"
      ],
      "execution_count": null,
      "outputs": []
    },
    {
      "cell_type": "markdown",
      "metadata": {
        "id": "pGQZCt9-dSqz"
      },
      "source": [
        "#### Exercise 17:  Create a checkerboard 8 * 8 matrix using the tile function "
      ]
    },
    {
      "cell_type": "code",
      "metadata": {
        "id": "_ZQQVPL6dSqz"
      },
      "source": [
        "# Your Code Here\n",
        "np.tile(np.eye(2),(4,4))\n",
        "\n"
      ],
      "execution_count": null,
      "outputs": []
    },
    {
      "cell_type": "markdown",
      "metadata": {
        "id": "NvUVMLdZdSq7"
      },
      "source": [
        "#### Exercise 18: Given two arrays *A* and *B*, perform the below operations.\n",
        "\n",
        "* A + B\n",
        "* A - B\n",
        "* A * B\n",
        "* A / B\n",
        "* A ** 3\n",
        "\n",
        "A = np.arange(1,6)\n",
        "\n",
        "B = np.arange(6,15, 2)"
      ]
    },
    {
      "cell_type": "code",
      "metadata": {
        "id": "YCxT5wwidSq9"
      },
      "source": [
        "# Your Code Here\n",
        "A = np.arange(1,6)\n",
        "\n",
        "B = np.arange(6,15, 2)\n",
        "\n",
        "print(A+B,end=\"\\n\\n\")\n",
        "print(A-B,end=\"\\n\\n\")\n",
        "print(A*B,end=\"\\n\\n\")\n",
        "print(A/B,end=\"\\n\\n\")\n",
        "print(A**3,end=\"\\n\\n\")\n",
        "\n",
        "\n"
      ],
      "execution_count": null,
      "outputs": []
    },
    {
      "cell_type": "markdown",
      "metadata": {
        "id": "cgdkW34mdSrE"
      },
      "source": [
        "#### Exercise 19: Given an Array *A*. Calculate the square root of elements in it.\n",
        "\n",
        "A = np.arange(1,20, 2)"
      ]
    },
    {
      "cell_type": "code",
      "metadata": {
        "id": "CEq04cTmdSrF"
      },
      "source": [
        "# Your Code Here\n",
        "A = np.arange(1,20, 2)\n",
        "np.sqrt(A)"
      ],
      "execution_count": null,
      "outputs": []
    },
    {
      "cell_type": "markdown",
      "metadata": {
        "id": "5Fhd3IswdSrJ"
      },
      "source": [
        "#### Exercise 20: Given an array *A*. Calculate the exponential of elements in it.\n",
        "\n",
        "A = np.arange(1, 20, 2)"
      ]
    },
    {
      "cell_type": "code",
      "metadata": {
        "id": "oomuquycdSrK"
      },
      "source": [
        "# Your Code Here\n",
        "A = np.arange(1, 20, 2)\n",
        "np.exp(A)\n",
        "\n"
      ],
      "execution_count": null,
      "outputs": []
    }
  ]
}